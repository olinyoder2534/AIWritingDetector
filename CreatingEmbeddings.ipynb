{
  "nbformat": 4,
  "nbformat_minor": 0,
  "metadata": {
    "colab": {
      "provenance": [],
      "authorship_tag": "ABX9TyNNX+DCDZG5xvpqwZlHpWMv",
      "include_colab_link": true
    },
    "kernelspec": {
      "name": "python3",
      "display_name": "Python 3"
    },
    "language_info": {
      "name": "python"
    }
  },
  "cells": [
    {
      "cell_type": "markdown",
      "metadata": {
        "id": "view-in-github",
        "colab_type": "text"
      },
      "source": [
        "<a href=\"https://colab.research.google.com/github/olinyoder2534/AIWritingDetector/blob/main/CreatingEmbeddings.ipynb\" target=\"_parent\"><img src=\"https://colab.research.google.com/assets/colab-badge.svg\" alt=\"Open In Colab\"/></a>"
      ]
    },
    {
      "cell_type": "code",
      "execution_count": null,
      "metadata": {
        "id": "YmWagHBKOyjU"
      },
      "outputs": [],
      "source": [
        "import pandas as pd\n",
        "import numpy as np\n",
        "import spacy"
      ]
    },
    {
      "cell_type": "code",
      "source": [
        "train = pd.read_csv('/content/trainClean.csv')\n",
        "test = pd.read_csv('/content/testClean.csv')"
      ],
      "metadata": {
        "id": "36R-jY0oO6NV"
      },
      "execution_count": null,
      "outputs": []
    },
    {
      "cell_type": "code",
      "source": [
        "train = train.sample(frac=1).reset_index(drop=True)\n",
        "test = test.sample(frac=1).reset_index(drop=True)"
      ],
      "metadata": {
        "id": "dFfNJa1wPOOi"
      },
      "execution_count": null,
      "outputs": []
    },
    {
      "cell_type": "code",
      "source": [
        "train.head()"
      ],
      "metadata": {
        "id": "00eiMBDkO7lH"
      },
      "execution_count": null,
      "outputs": []
    },
    {
      "cell_type": "code",
      "source": [
        "test.head()"
      ],
      "metadata": {
        "id": "Sc1Nxi4lO80K"
      },
      "execution_count": null,
      "outputs": []
    },
    {
      "cell_type": "markdown",
      "source": [
        "## Spacy Embeddings"
      ],
      "metadata": {
        "id": "iH35mAedO-jH"
      }
    },
    {
      "cell_type": "code",
      "source": [
        "!python -m spacy download en_core_web_lg"
      ],
      "metadata": {
        "id": "MykJUptFPCGB"
      },
      "execution_count": null,
      "outputs": []
    },
    {
      "cell_type": "code",
      "source": [
        "nlp = spacy.load(\"en_core_web_lg\")"
      ],
      "metadata": {
        "id": "r7f76F-3PETc"
      },
      "execution_count": null,
      "outputs": []
    },
    {
      "cell_type": "code",
      "source": [
        "train['SpacyVector'] = train['textNoPII'].apply(lambda text: nlp(text).vector)"
      ],
      "metadata": {
        "id": "PUjVOYpZPF3z"
      },
      "execution_count": null,
      "outputs": []
    },
    {
      "cell_type": "code",
      "source": [
        "test['SpacyVector'] = test['text'].apply(lambda text: nlp(text).vector)"
      ],
      "metadata": {
        "id": "c6qNJe8FPJvC"
      },
      "execution_count": null,
      "outputs": []
    },
    {
      "cell_type": "markdown",
      "source": [
        "## Bert Embeddings"
      ],
      "metadata": {
        "id": "BRqxi_r0PX2L"
      }
    },
    {
      "cell_type": "code",
      "source": [
        "import tensorflow as tf\n",
        "import tensorflow_hub as hub\n",
        "import tensorflow_text as text"
      ],
      "metadata": {
        "id": "PIcXWWeWPXgg"
      },
      "execution_count": null,
      "outputs": []
    },
    {
      "cell_type": "code",
      "source": [
        "preprocess_url = \"https://tfhub.dev/tensorflow/bert_en_uncased_preprocess/3\"\n",
        "encoder_url = \"https://tfhub.dev/tensorflow/bert_en_uncased_L-12_H-768_A-12/4\"\n",
        "\n",
        "bert_preprocess = hub.KerasLayer(preprocess_url, name='bert_preprocess')\n",
        "bert_encoder = hub.KerasLayer(encoder_url, name='bert_encoder')"
      ],
      "metadata": {
        "id": "-AOe8221PcRO"
      },
      "execution_count": null,
      "outputs": []
    },
    {
      "cell_type": "code",
      "source": [
        "def get_embeddings(texts):\n",
        "    text_input = tf.convert_to_tensor(texts, dtype=tf.string)\n",
        "    preprocessed_text = bert_preprocess(text_input)\n",
        "    outputs = bert_encoder(preprocessed_text)\n",
        "    return outputs['pooled_output'].numpy()"
      ],
      "metadata": {
        "id": "bIq1pyU2Pd0g"
      },
      "execution_count": null,
      "outputs": []
    },
    {
      "cell_type": "code",
      "source": [
        "train['BertVector'] = train['textNoPII'].apply(lambda x: get_embeddings([x])[0])"
      ],
      "metadata": {
        "id": "3IohCK_CPflb"
      },
      "execution_count": null,
      "outputs": []
    },
    {
      "cell_type": "code",
      "source": [
        "test['BertVector'] = test['text'].apply(lambda x: get_embeddings([x])[0])"
      ],
      "metadata": {
        "id": "aPvJbnkbPiED"
      },
      "execution_count": null,
      "outputs": []
    },
    {
      "cell_type": "code",
      "source": [
        "train['BertVector'] = train['BertVector'].apply(lambda x: np.fromstring(x[1:-1], dtype=float, sep=' '))\n",
        "test['BertVector'] = test['BertVector'].apply(lambda x: np.fromstring(x[1:-1], dtype=float, sep=' '))"
      ],
      "metadata": {
        "id": "RCtETH2ePprp"
      },
      "execution_count": null,
      "outputs": []
    },
    {
      "cell_type": "markdown",
      "source": [
        "## Downloading New Data"
      ],
      "metadata": {
        "id": "GMGabMpRP7Wh"
      }
    },
    {
      "cell_type": "code",
      "source": [
        "train.to_csv('trainCleanEmbeddings.csv', index = False)\n",
        "test.to_csv('testCleanEmbeddings.csv', index = False)"
      ],
      "metadata": {
        "id": "oVuXgmmBP9qK"
      },
      "execution_count": null,
      "outputs": []
    },
    {
      "cell_type": "code",
      "source": [
        "from google.colab import files\n",
        "files.download('trainCleanEmbeddings.csv')\n",
        "files.download('testCleanEmbeddings.csv')"
      ],
      "metadata": {
        "id": "d32gDgNTQCtL"
      },
      "execution_count": null,
      "outputs": []
    }
  ]
}